{
 "cells": [
  {
   "cell_type": "code",
   "execution_count": 3,
   "id": "82b9480a-356d-4e98-a366-3b9bf7b0a165",
   "metadata": {},
   "outputs": [],
   "source": [
    "import torch.optim as optim\n",
    "import gensim\n",
    "import nltk\n",
    "from nltk.tokenize import word_tokenize\n",
    "from modules.preprocess import *\n",
    "from modules.utils import build_dataset, text_to_word2vec, euclid_dis, contrastive_loss, calculate_accuracy, train_epoch, eval_model\n",
    "from modules.dataloader import PairedWord2VecDataset\n",
    "from modules.model import BaseNet1D, SiameseNetwork\n",
    "import gensim.downloader as api\n",
    "import numpy as np\n",
    "from sklearn.model_selection import train_test_split\n",
    "import torch.nn as nn\n",
    "import torch.nn.functional as F\n",
    "from torch.utils.data import Dataset, DataLoader\n",
    "import torch\n",
    "import random"
   ]
  },
  {
   "cell_type": "code",
   "execution_count": null,
   "id": "5c721cdb-4de5-457d-b60e-2f4121872d02",
   "metadata": {},
   "outputs": [],
   "source": []
  },
  {
   "cell_type": "code",
   "execution_count": 4,
   "id": "261f2457-a557-4b0a-8e6c-e82b6af99ef9",
   "metadata": {},
   "outputs": [],
   "source": [
    "dataset = build_dataset(path=\"data\", num_samples=100, rnd_state=10)"
   ]
  },
  {
   "cell_type": "code",
   "execution_count": 5,
   "id": "794a6a77-12fa-4530-b580-8da0a996d143",
   "metadata": {},
   "outputs": [],
   "source": [
    "dataset = text_edit(dataset, grp_num=False, rm_newline=True, rm_punctuation=True, lowercase=True, lemmatize=False, html_=True, expand=True)"
   ]
  },
  {
   "cell_type": "code",
   "execution_count": 6,
   "id": "986ed933-1648-4d96-b296-df1a77953034",
   "metadata": {},
   "outputs": [],
   "source": [
    "X = [x['text'] for x in dataset.values() if x['section_1'] in ['actualites', 'sports']]\n",
    "Y = [x['section_label'] for x in dataset.values() if x['section_1'] in ['actualites', 'sports']]"
   ]
  },
  {
   "cell_type": "code",
   "execution_count": 7,
   "id": "ce106198-ad6c-4701-a74a-df6b8c5440f7",
   "metadata": {},
   "outputs": [],
   "source": [
    "X_train, X_test, Y_train, Y_test = train_test_split(X, Y, test_size=0.2, random_state = 42)"
   ]
  },
  {
   "cell_type": "code",
   "execution_count": 8,
   "id": "4f7990b7-c8a0-4979-b880-342c342ff4d1",
   "metadata": {},
   "outputs": [],
   "source": [
    "model_name = 'fasttext-wiki-news-subwords-300'\n",
    "word2vec_model = api.load(model_name)\n",
    "text = \"Ceci est un texte exemple\"\n",
    "vector = text_to_word2vec(text, word2vec_model)"
   ]
  },
  {
   "cell_type": "code",
   "execution_count": 9,
   "id": "402db405-17ba-442a-8ab7-a838f9539915",
   "metadata": {},
   "outputs": [],
   "source": [
    "base_net = BaseNet1D(input_channels=300)\n",
    "siamese_model = SiameseNetwork(base_net)"
   ]
  },
  {
   "cell_type": "code",
   "execution_count": null,
   "id": "0bdc1054-a82a-4e42-8488-b10f48a09735",
   "metadata": {},
   "outputs": [],
   "source": []
  },
  {
   "cell_type": "code",
   "execution_count": 11,
   "id": "23009381-db88-42f5-8a14-152687832fc8",
   "metadata": {},
   "outputs": [],
   "source": [
    "train_dataset = PairedWord2VecDataset(X_train, Y_train, text_to_word2vec, word2vec_model, 10)\n",
    "train_loader = DataLoader(train_dataset, batch_size=4, shuffle=True)\n",
    "\n",
    "test_dataset = PairedWord2VecDataset(X_test, Y_test, text_to_word2vec, word2vec_model, 5)\n",
    "test_loader = DataLoader(test_dataset, batch_size=4)\n",
    "\n",
    "device = torch.device(\"cuda\" if torch.cuda.is_available() else \"cpu\")\n",
    "optimizer = optim.RMSprop(siamese_model.parameters(), lr=0.001)"
   ]
  },
  {
   "cell_type": "code",
   "execution_count": null,
   "id": "a4ad026f-f30c-4982-9905-b659e132adfd",
   "metadata": {},
   "outputs": [],
   "source": []
  },
  {
   "cell_type": "code",
   "execution_count": null,
   "id": "0c5a258b-f95e-47c9-b3ed-e26ec3c1939f",
   "metadata": {},
   "outputs": [],
   "source": []
  },
  {
   "cell_type": "code",
   "execution_count": 2,
   "id": "70a0a7fc-7f5d-4cfe-838c-45fc626be5f8",
   "metadata": {},
   "outputs": [],
   "source": [
    "def train_epoch(model, dataloader, optimizer, device):\n",
    "    model.train()\n",
    "    total_loss = 0\n",
    "    for (data_a, data_b), target in dataloader:\n",
    "        data_a, data_b, target = data_a.to(device), data_b.to(device), target.to(device)\n",
    "        print(target)\n",
    "        optimizer.zero_grad()\n",
    "        output = model(data_a, data_b)\n",
    "        print(output)\n",
    "        loss = contrastive_loss(output, target)\n",
    "        print(loss)\n",
    "        loss.backward()\n",
    "        optimizer.step()\n",
    "        total_loss += loss.item()\n",
    "    return total_loss / len(dataloader)\n",
    "\n",
    "def contrastive_loss(y_true, y_pred, margin=1.0):\n",
    "    square_pred = torch.square(y_pred)\n",
    "    margin_square = torch.square(torch.clamp(margin - y_pred, min=0))\n",
    "    loss = torch.mean(y_true * square_pred + (1 - y_true) * margin_square)\n",
    "    return loss"
   ]
  },
  {
   "cell_type": "code",
   "execution_count": null,
   "id": "4927ce7c-4b80-4aba-ae3b-c95df0de4794",
   "metadata": {},
   "outputs": [],
   "source": [
    "target = torch.tensor([0., 0., 0., 1.])\n",
    "output = torch.tensor([40.6846, 13.3669, 58.7736,  8.3831])\n",
    "contrastive_loss(target, output)"
   ]
  },
  {
   "cell_type": "code",
   "execution_count": null,
   "id": "2f0afea7-4027-43ac-b8fa-55e280f86bba",
   "metadata": {},
   "outputs": [],
   "source": []
  },
  {
   "cell_type": "code",
   "execution_count": null,
   "id": "e7fc2ad9-bd6d-430a-89fc-2b57b769fe35",
   "metadata": {},
   "outputs": [],
   "source": []
  },
  {
   "cell_type": "code",
   "execution_count": 37,
   "id": "da49f63b-4f16-4441-b7b4-038d486015ff",
   "metadata": {},
   "outputs": [],
   "source": [
    "out_ = torch.tensor([[43.9575],[35.9617],[32.6184],[28.8075]]).view(-1)"
   ]
  },
  {
   "cell_type": "code",
   "execution_count": 38,
   "id": "2497af93-213c-4c93-b7b9-cda58268154d",
   "metadata": {},
   "outputs": [],
   "source": [
    "tar_ = torch.tensor([0., 1., 1., 1.])"
   ]
  },
  {
   "cell_type": "code",
   "execution_count": 39,
   "id": "d302a5e4-806e-40ba-9cd9-8345f10f7c46",
   "metadata": {},
   "outputs": [
    {
     "data": {
      "text/plain": [
       "tensor(13.6075)"
      ]
     },
     "execution_count": 39,
     "metadata": {},
     "output_type": "execute_result"
    }
   ],
   "source": [
    "contrastive_loss(out_, tar_)"
   ]
  },
  {
   "cell_type": "code",
   "execution_count": 59,
   "id": "894fa9d1-ae09-488e-bca6-5532f421027a",
   "metadata": {},
   "outputs": [
    {
     "name": "stdout",
     "output_type": "stream",
     "text": [
      "tensor([1., 1., 0., 0.])\n",
      "tensor([[ 3.3768],\n",
      "        [16.4614],\n",
      "        [ 4.3017],\n",
      "        [67.6722]], grad_fn=<SqrtBackward0>)\n",
      "tensor(610.0516, grad_fn=<MeanBackward0>)\n",
      "tensor([1., 0., 1., 0.])\n",
      "tensor([[11.7113],\n",
      "        [67.3544],\n",
      "        [ 3.6530],\n",
      "        [10.5098]], grad_fn=<SqrtBackward0>)\n",
      "tensor(599.6954, grad_fn=<MeanBackward0>)\n",
      "tensor([0., 1.])\n",
      "tensor([[46.1916],\n",
      "        [ 3.7510]], grad_fn=<SqrtBackward0>)\n",
      "tensor(536.9327, grad_fn=<MeanBackward0>)\n"
     ]
    }
   ],
   "source": [
    "epochs = 1\n",
    "total_loss = []\n",
    "for epoch in range(epochs):\n",
    "    siamese_model.train()\n",
    "    for (data_a, data_b), target in train_loader:\n",
    "        data_a, data_b, target = data_a.to(device), data_b.to(device), target.to(device)\n",
    "        optimizer.zero_grad()\n",
    "        output = siamese_model(data_a, data_b).view(-1)\n",
    "        loss = contrastive_loss(target, output)\n",
    "        print(target)\n",
    "        print(output)\n",
    "        print(loss)\n",
    "        loss.backward()\n",
    "        optimizer.step()\n",
    "        total_loss.append(loss.item())"
   ]
  },
  {
   "cell_type": "code",
   "execution_count": 49,
   "id": "c42c030f-a470-47fa-b426-cf34b6cc0265",
   "metadata": {},
   "outputs": [
    {
     "data": {
      "text/plain": [
       "tensor([38.9300,  9.0420], grad_fn=<ViewBackward0>)"
      ]
     },
     "execution_count": 49,
     "metadata": {},
     "output_type": "execute_result"
    }
   ],
   "source": [
    "output.view(-1)"
   ]
  },
  {
   "cell_type": "code",
   "execution_count": 57,
   "id": "2f7c827a-f4ed-45b7-b24e-c7c1e5a7d542",
   "metadata": {},
   "outputs": [
    {
     "data": {
      "text/plain": [
       "tensor(62.8151)"
      ]
     },
     "execution_count": 57,
     "metadata": {},
     "output_type": "execute_result"
    }
   ],
   "source": [
    "contrastive_loss(torch.tensor([1.,0.,0.,0]), torch.tensor([15.8512, 43.3228, 43.3228, 26.8456]))"
   ]
  },
  {
   "cell_type": "code",
   "execution_count": null,
   "id": "eb4b2bc1-5e0a-40b7-bdc7-736db3f5194a",
   "metadata": {},
   "outputs": [],
   "source": []
  },
  {
   "cell_type": "code",
   "execution_count": null,
   "id": "f9b02f8a-a5d9-439a-ab6c-8fe2783f6e51",
   "metadata": {},
   "outputs": [],
   "source": []
  },
  {
   "cell_type": "code",
   "execution_count": null,
   "id": "d305d230-cea3-4f1c-b251-29e2324e21fc",
   "metadata": {},
   "outputs": [],
   "source": []
  },
  {
   "cell_type": "code",
   "execution_count": null,
   "id": "602fdb67-e511-4478-ba6d-368fcad9c506",
   "metadata": {},
   "outputs": [],
   "source": [
    "epochs = 10\n",
    "best_accuracy = 0\n",
    "for epoch in range(epochs):\n",
    "    train_loss = train_epoch(siamese_model, train_loader, optimizer, device)\n",
    "    val_accuracy = eval_model(siamese_model, train_loader, device)\n",
    "    print(f\"Epoch {epoch}, Train Loss: {train_loss}, Validation Accuracy: {val_accuracy}\")\n",
    "    \n",
    "    if val_accuracy > best_accuracy:\n",
    "        best_accuracy = val_accuracy\n",
    "        torch.save(siamese_model.state_dict(), 'best_model.pth')\n",
    "        print(\"Model saved as best model\")"
   ]
  },
  {
   "cell_type": "code",
   "execution_count": null,
   "id": "fad1eb1f-75c7-4caa-bdb3-6a236402e4c8",
   "metadata": {},
   "outputs": [],
   "source": []
  },
  {
   "cell_type": "code",
   "execution_count": null,
   "id": "cd9ed62f-c834-4bc2-b4a3-383f8ed1f42a",
   "metadata": {},
   "outputs": [],
   "source": []
  },
  {
   "cell_type": "code",
   "execution_count": null,
   "id": "83025820-1e60-403e-bc9d-3e0f64ef9e68",
   "metadata": {},
   "outputs": [],
   "source": []
  },
  {
   "cell_type": "code",
   "execution_count": null,
   "id": "4e93ae27-9247-4cb7-8125-30ceb60be295",
   "metadata": {},
   "outputs": [],
   "source": []
  },
  {
   "cell_type": "code",
   "execution_count": null,
   "id": "ae1e2376-7234-4bc4-8f8f-da6535eb313f",
   "metadata": {},
   "outputs": [],
   "source": []
  },
  {
   "cell_type": "code",
   "execution_count": null,
   "id": "ea3cf6f5-720c-48ca-b70e-b9ff9c85ac38",
   "metadata": {},
   "outputs": [],
   "source": []
  },
  {
   "cell_type": "code",
   "execution_count": null,
   "id": "42d5957f-f557-4477-9bfd-5a3d1799139f",
   "metadata": {},
   "outputs": [],
   "source": []
  }
 ],
 "metadata": {
  "kernelspec": {
   "display_name": "Python 3 (ipykernel)",
   "language": "python",
   "name": "python3"
  },
  "language_info": {
   "codemirror_mode": {
    "name": "ipython",
    "version": 3
   },
   "file_extension": ".py",
   "mimetype": "text/x-python",
   "name": "python",
   "nbconvert_exporter": "python",
   "pygments_lexer": "ipython3",
   "version": "3.12.2"
  }
 },
 "nbformat": 4,
 "nbformat_minor": 5
}
