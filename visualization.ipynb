{
 "cells": [
  {
   "cell_type": "markdown",
   "id": "371b0ba2-1814-4dcf-8abf-5924748a0d25",
   "metadata": {},
   "source": [
    "# IMPORTS"
   ]
  },
  {
   "cell_type": "code",
   "execution_count": 1,
   "id": "82b9480a-356d-4e98-a366-3b9bf7b0a165",
   "metadata": {},
   "outputs": [
    {
     "name": "stderr",
     "output_type": "stream",
     "text": [
      "2024-04-16 12:19:34.961621: I tensorflow/core/util/port.cc:113] oneDNN custom operations are on. You may see slightly different numerical results due to floating-point round-off errors from different computation orders. To turn them off, set the environment variable `TF_ENABLE_ONEDNN_OPTS=0`.\n",
      "2024-04-16 12:19:35.650592: I tensorflow/core/platform/cpu_feature_guard.cc:210] This TensorFlow binary is optimized to use available CPU instructions in performance-critical operations.\n",
      "To enable the following instructions: AVX2 AVX512F AVX512_VNNI FMA, in other operations, rebuild TensorFlow with the appropriate compiler flags.\n",
      "2024-04-16 12:19:37.280192: W tensorflow/compiler/tf2tensorrt/utils/py_utils.cc:38] TF-TRT Warning: Could not find TensorRT\n",
      "/home/xavier/anaconda3/envs/ml_env/lib/python3.12/site-packages/tqdm/auto.py:21: TqdmWarning: IProgress not found. Please update jupyter and ipywidgets. See https://ipywidgets.readthedocs.io/en/stable/user_install.html\n",
      "  from .autonotebook import tqdm as notebook_tqdm\n"
     ]
    }
   ],
   "source": [
    "from modules.preprocess import *\n",
    "from modules.utils import *\n",
    "import numpy as np\n",
    "from sklearn.model_selection import train_test_split\n",
    "from sklearn.decomposition import PCA\n",
    "from sklearn.preprocessing import StandardScaler\n",
    "import matplotlib.pyplot as plt\n",
    "import pickle\n",
    "from umap import UMAP \n",
    "from sklearn.cluster import DBSCAN\n",
    "from sklearn.model_selection import KFold\n",
    "from collections import Counter\n",
    "import tensorboard"
   ]
  },
  {
   "cell_type": "markdown",
   "id": "ad09aa3d-06b0-482a-841a-48517f64cc5c",
   "metadata": {},
   "source": [
    "# BUILD DATASET"
   ]
  },
  {
   "cell_type": "code",
   "execution_count": 2,
   "id": "261f2457-a557-4b0a-8e6c-e82b6af99ef9",
   "metadata": {},
   "outputs": [],
   "source": [
    "dataset = build_dataset(path=\"data\", num_samples=-1, rnd_state=10)\n",
    "dataset = text_edit(dataset, grp_num=False, rm_newline=True, rm_punctuation=True, lowercase=True, lemmatize=False, html_=True, expand=False)"
   ]
  },
  {
   "cell_type": "code",
   "execution_count": 3,
   "id": "542a6f75-e812-4a9a-9c73-9bde9950e515",
   "metadata": {},
   "outputs": [],
   "source": [
    "X = [x for x,y in dataset.items() if y['section_1'] in ['actualites', 'sports', 'international', 'arts', 'affaires']]\n",
    "Y = [x['section_label'] for x in dataset.values() if x['section_1'] in ['actualites', 'sports', 'international', 'arts', 'affaires']]"
   ]
  },
  {
   "cell_type": "markdown",
   "id": "b32d244c-6adc-436f-a246-dd0a573d3abe",
   "metadata": {},
   "source": [
    "# 5-FOLD SPLIT"
   ]
  },
  {
   "cell_type": "code",
   "execution_count": 4,
   "id": "daa5f684-8f61-43f1-9fe4-90c7857d36df",
   "metadata": {},
   "outputs": [],
   "source": [
    "kf = KFold(n_splits=5, shuffle=True, random_state=42)\n",
    "splits = kf.split(X)\n",
    "splits = [x for x in splits]\n",
    "train_index, test_index = splits[4]"
   ]
  },
  {
   "cell_type": "code",
   "execution_count": 5,
   "id": "890fa1b9-1ab4-4928-8d2e-f3612d77428c",
   "metadata": {},
   "outputs": [],
   "source": [
    "train_index = np.array([x for x in train_index])\n",
    "test_index = np.array([x for x in test_index])"
   ]
  },
  {
   "cell_type": "markdown",
   "id": "eee097fe-8855-4272-9281-1b7bafc23a88",
   "metadata": {},
   "source": [
    "# GET SPECIFIC FOLD"
   ]
  },
  {
   "cell_type": "code",
   "execution_count": 22,
   "id": "abd09137-4539-47d9-a6dc-019f777f8f98",
   "metadata": {},
   "outputs": [],
   "source": [
    "X_train, X_test, Y_train, Y_test = [], [], [], []\n",
    "\n",
    "for index in train_index:\n",
    "    X_train.append(X[index])\n",
    "    Y_train.append(Y[index])\n",
    "\n",
    "for index in test_index:\n",
    "    X_test.append(X[index])\n",
    "    Y_test.append(Y[index])\n",
    "\n",
    "X_train = np.array(X_train)\n",
    "X_test = np.array(X_test)\n",
    "Y_train = np.array(Y_train)\n",
    "Y_test = np.array(Y_test)"
   ]
  },
  {
   "cell_type": "code",
   "execution_count": 23,
   "id": "5ecd59a0-bc8e-46ae-a9d7-e2c740abca7d",
   "metadata": {},
   "outputs": [],
   "source": [
    "subtopics = [dataset[x]['section_2'] if not dataset[x]['section_2'].startswith('20') else dataset[x]['section_1'] for x in X_test]"
   ]
  },
  {
   "cell_type": "markdown",
   "id": "0b706feb-0c90-46d5-92f4-135930579292",
   "metadata": {},
   "source": [
    "# LOAD PREDICTED 32-DIMENSIONAL VECTORS"
   ]
  },
  {
   "cell_type": "code",
   "execution_count": 7,
   "id": "805df406-5fa3-46da-bcfb-fc6308ad8311",
   "metadata": {},
   "outputs": [],
   "source": [
    "with open('results_0.pkl', 'rb') as file:\n",
    "    results0 = CPU_Unpickler(file).load()\n",
    "with open('results_1.pkl', 'rb') as file:\n",
    "    results1 = CPU_Unpickler(file).load()\n",
    "with open('results_2.pkl', 'rb') as file:\n",
    "    results2 = CPU_Unpickler(file).load()\n",
    "with open('results_3.pkl', 'rb') as file:\n",
    "    results3 = CPU_Unpickler(file).load()\n",
    "with open('results_4.pkl', 'rb') as file:\n",
    "    results4 = CPU_Unpickler(file).load()"
   ]
  },
  {
   "cell_type": "code",
   "execution_count": 8,
   "id": "e025ff43-4278-4d60-9bec-314e702cbf09",
   "metadata": {},
   "outputs": [],
   "source": [
    "sample, target = [x[0].view(-1).numpy() for x in results4], [x[1] for x in results4]\n",
    "samples = np.stack(sample)"
   ]
  },
  {
   "cell_type": "markdown",
   "id": "c79b3729-fba4-46ba-9bb3-2187362e1c6d",
   "metadata": {},
   "source": [
    "# TRAIN/TEST SPLIT FOR SVM/LR/MLP TRAINING"
   ]
  },
  {
   "cell_type": "code",
   "execution_count": 11,
   "id": "b24fd8cc-19da-48b0-8eaa-f6b7d58af43d",
   "metadata": {},
   "outputs": [],
   "source": [
    "X_train, X_test, Y_train, Y_test = train_test_split(samples, target, test_size=0.2, random_state = 42)"
   ]
  },
  {
   "cell_type": "code",
   "execution_count": null,
   "id": "eb61896f-866f-4ef4-a690-3968dc312df3",
   "metadata": {
    "scrolled": true
   },
   "outputs": [],
   "source": [
    "svm_model = tune_svm(X_train, Y_train)"
   ]
  },
  {
   "cell_type": "code",
   "execution_count": null,
   "id": "8eb9b37d-5703-453c-b7c7-66c28b2bf408",
   "metadata": {
    "scrolled": true
   },
   "outputs": [],
   "source": [
    "lr_model = tune_logistic_regression(X_train, Y_train)"
   ]
  },
  {
   "cell_type": "code",
   "execution_count": null,
   "id": "6b29994d-fdd4-4384-82f5-78a4b45028ea",
   "metadata": {},
   "outputs": [],
   "source": [
    "mlp_model = tune_mlp(X_train, Y_train)"
   ]
  },
  {
   "cell_type": "markdown",
   "id": "68376269-11d3-49e1-ac4a-c02c8f44eae4",
   "metadata": {},
   "source": [
    "# INSTANTIATE MODELS WITH BEST HYPERPARAMETERS"
   ]
  },
  {
   "cell_type": "code",
   "execution_count": 12,
   "id": "d09ebeff-8093-496e-a59f-3b0d6de876b7",
   "metadata": {},
   "outputs": [],
   "source": [
    "svm_model = SVC(probability=True, C=100, degree=5, gamma='scale', kernel='linear', random_state=42) \n",
    "lr_model = LogisticRegression(C=10, penalty='l2', solver='liblinear', max_iter=5000, random_state=42)\n",
    "mlp_model = MLPClassifier(hidden_layer_sizes=(25,50), activation='relu', learning_rate='adaptive', solver='adam', alpha=0.01, max_iter=5000, random_state=42)"
   ]
  },
  {
   "cell_type": "markdown",
   "id": "44420d55-1aa0-4bc9-924c-332bd93f72cf",
   "metadata": {},
   "source": [
    "# TRAIN AND EVAL MODELS"
   ]
  },
  {
   "cell_type": "code",
   "execution_count": 13,
   "id": "c0f0edb0-42a8-4660-99e9-203cf678ca4c",
   "metadata": {},
   "outputs": [
    {
     "name": "stdout",
     "output_type": "stream",
     "text": [
      "Precision:  0.9373567541363538\n",
      "Recall:  0.9373695198329853\n",
      "F1_score:  0.9369857535699839\n",
      "accuracy:  0.9373695198329853\n"
     ]
    }
   ],
   "source": [
    "lr_model.fit(X_train, Y_train)\n",
    "lr_y_pred = lr_model.predict(X_test)\n",
    "evaluate(Y_test, lr_y_pred)"
   ]
  },
  {
   "cell_type": "code",
   "execution_count": 14,
   "id": "94a7277f-885a-4eaa-98f9-e0bd1b6fc84b",
   "metadata": {},
   "outputs": [
    {
     "name": "stdout",
     "output_type": "stream",
     "text": [
      "Precision:  0.9381952729937173\n",
      "Recall:  0.9384133611691023\n",
      "F1_score:  0.9381580041732784\n",
      "accuracy:  0.9384133611691023\n"
     ]
    }
   ],
   "source": [
    "svm_model.fit(X_train, Y_train)\n",
    "svm_y_pred = svm_model.predict(X_test)\n",
    "evaluate(Y_test, svm_y_pred)"
   ]
  },
  {
   "cell_type": "code",
   "execution_count": 15,
   "id": "76b5298a-accd-4147-b0d6-6d7e7160e19e",
   "metadata": {},
   "outputs": [
    {
     "name": "stdout",
     "output_type": "stream",
     "text": [
      "Precision:  0.9404549875150378\n",
      "Recall:  0.9405010438413361\n",
      "F1_score:  0.9402481718522275\n",
      "accuracy:  0.9405010438413361\n"
     ]
    }
   ],
   "source": [
    "mlp_model.fit(X_train, Y_train)\n",
    "mlp_y_pred = mlp_model.predict(X_test)\n",
    "evaluate(Y_test, mlp_y_pred)"
   ]
  },
  {
   "cell_type": "markdown",
   "id": "2436ea8a-2fec-4130-aa0d-801600f6ea48",
   "metadata": {},
   "source": [
    "# TOPIC-SPECIFIC PERFORMANCE"
   ]
  },
  {
   "cell_type": "code",
   "execution_count": 16,
   "id": "2727da0d-f422-4664-8e7b-8fb3f8b503d3",
   "metadata": {
    "scrolled": true
   },
   "outputs": [
    {
     "name": "stdout",
     "output_type": "stream",
     "text": [
      "Class name: news\n",
      "Precision:  0.838382888390278\n",
      "Recall:  0.8480565371024735\n",
      "F1_score:  0.8431919680559966\n",
      "accuracy:  0.8480565371024735\n",
      "283\n",
      "Class name: sports\n",
      "Precision:  0.9723514211886305\n",
      "Recall:  0.9814814814814815\n",
      "F1_score:  0.9768951194184838\n",
      "accuracy:  0.9814814814814815\n",
      "216\n",
      "Class name: business\n",
      "Precision:  0.8497191011235955\n",
      "Recall:  0.8033707865168539\n",
      "F1_score:  0.8258952010920928\n",
      "accuracy:  0.8033707865168539\n",
      "178\n",
      "Class name: arts\n",
      "Precision:  0.8961264822134387\n",
      "Recall:  0.9043478260869565\n",
      "F1_score:  0.9002183839587056\n",
      "accuracy:  0.9043478260869565\n",
      "115\n",
      "Class name: international\n",
      "Precision:  0.8764278296988577\n",
      "Recall:  0.8888888888888888\n",
      "F1_score:  0.8826143790849672\n",
      "accuracy:  0.8888888888888888\n",
      "225\n"
     ]
    }
   ],
   "source": [
    "class_names = {\n",
    "    0: 'news',\n",
    "    1: 'sports',\n",
    "    2: 'business',\n",
    "    3: 'arts',\n",
    "    4: 'international'}\n",
    "pred_list = list(zip(svm_y_pred, Y_test))\n",
    "for i in set(Y_test):\n",
    "    filter_pred = [x for x in pred_list if x[0] == i or x[1] == i]\n",
    "    i_pred = [x[0] for x in filter_pred]\n",
    "    i_true = [x[1] for x in filter_pred]\n",
    "    print(f'Class name: {class_names[i]}')\n",
    "    evaluate(i_true, i_pred)\n",
    "    print(len(i_true))"
   ]
  },
  {
   "cell_type": "markdown",
   "id": "3632d012-f740-49b8-aff0-38ec4bcaeac1",
   "metadata": {},
   "source": [
    "# 2D VISUALIZATION WITH UMAP"
   ]
  },
  {
   "cell_type": "code",
   "execution_count": 17,
   "id": "4da24fd3-18e8-44e6-9f12-1bf20c3e874f",
   "metadata": {},
   "outputs": [
    {
     "name": "stderr",
     "output_type": "stream",
     "text": [
      "/home/xavier/anaconda3/envs/ml_env/lib/python3.12/site-packages/umap/umap_.py:1943: UserWarning: n_jobs value -1 overridden to 1 by setting random_state. Use no seed for parallelism.\n",
      "  warn(f\"n_jobs value {self.n_jobs} overridden to 1 by setting random_state. Use no seed for parallelism.\")\n"
     ]
    },
    {
     "data": {
      "image/png": "[encoded data removed]",
      "text/plain": [
       "<Figure size 800x600 with 1 Axes>"
      ]
     },
     "metadata": {},
     "output_type": "display_data"
    }
   ],
   "source": [
    "arrays, labels = samples, target\n",
    "\n",
    "scaler = StandardScaler()\n",
    "data_scaled = scaler.fit_transform(arrays)\n",
    "\n",
    "umap_reducer = UMAP(n_neighbors=50, min_dist=0.1, n_components=2, random_state=42)\n",
    "data_2d = umap_reducer.fit_transform(data_scaled)\n",
    "\n",
    "fig, ax = plt.subplots(figsize=(8, 6))\n",
    "\n",
    "colors = {0: 'r', 1: 'g', 2: 'b', 3: 'yellow', 4: 'black'}\n",
    "class_names = {\n",
    "    0: 'news',\n",
    "    1: 'sports',\n",
    "    2: 'business',\n",
    "    3: 'arts',\n",
    "    4: 'international'\n",
    "}\n",
    "\n",
    "for label in np.unique(labels):\n",
    "    ix = np.where(labels == label)\n",
    "    ax.scatter(data_2d[ix, 0], data_2d[ix, 1], color=colors[label], s=1, label=class_names[label])\n",
    "\n",
    "ax.set_xlabel('UMAP1')\n",
    "ax.set_ylabel('UMAP2')\n",
    "ax.set_title('2D representation of latent space with UMAP')\n",
    "\n",
    "ax.legend(markerscale=5, loc='center left', bbox_to_anchor=(1, 0.5), title=\"Section\")\n",
    "\n",
    "plt.savefig('umap_vector_space_2d.png', bbox_inches='tight')  \n",
    "plt.show()"
   ]
  },
  {
   "cell_type": "markdown",
   "id": "a9570bd0-0cd0-46bb-9da6-a28b3a5b45e2",
   "metadata": {},
   "source": [
    "# SUBTOPIC CLUSTERING WITH DBSCAN"
   ]
  },
  {
   "cell_type": "code",
   "execution_count": null,
   "id": "ff0c9907-9ea9-4d77-a4e7-8aa697b87e58",
   "metadata": {},
   "outputs": [
    {
     "name": "stderr",
     "output_type": "stream",
     "text": [
      "/home/xavier/anaconda3/envs/ml_env/lib/python3.12/site-packages/umap/umap_.py:1943: UserWarning: n_jobs value -1 overridden to 1 by setting random_state. Use no seed for parallelism.\n",
      "  warn(f\"n_jobs value {self.n_jobs} overridden to 1 by setting random_state. Use no seed for parallelism.\")\n"
     ]
    }
   ],
   "source": [
    "arrays, labels = samples, target\n",
    "\n",
    "scaler = StandardScaler()\n",
    "data_scaled = scaler.fit_transform(arrays)\n",
    "\n",
    "umap_reducer = UMAP(n_neighbors=50, min_dist=0.1, n_components=2, random_state=42)\n",
    "data_2d = umap_reducer.fit_transform(data_scaled)\n",
    "\n",
    "dbscan = DBSCAN(eps=0.3, min_samples=50)\n",
    "clusters = dbscan.fit_predict(data_2d)\n",
    "\n",
    "subtopics = [x.replace('justice-et-faits-divers', 'justice') for x in subtopics]\n",
    "data = list(zip(subtopics, clusters))\n",
    "\n",
    "cluster_topics = {i: [] for i in np.unique(clusters)}\n",
    "for topic, cluster in data:\n",
    "    cluster_topics[cluster].append(topic)\n",
    "\n",
    "most_common_topics = {}\n",
    "for cluster, topics in cluster_topics.items():\n",
    "    topic_count = Counter(topics)\n",
    "    most_common_topics[cluster] = topic_count.most_common(1)[0][0] if topics else 'No label'\n",
    "\n",
    "fig, ax = plt.subplots(figsize=(9, 6))\n",
    "\n",
    "colors = plt.cm.get_cmap('tab10', len([c for c in np.unique(clusters) if c != -1]))  \n",
    "\n",
    "for cluster_label in np.unique(clusters):\n",
    "    ix = np.where(clusters == cluster_label)\n",
    "    if cluster_label != -1: \n",
    "        cluster_color = colors(cluster_label)\n",
    "        ax.scatter(data_2d[ix, 0], data_2d[ix, 1], color=cluster_color, s=1,\n",
    "                   label=most_common_topics[cluster_label])\n",
    "    else:\n",
    "        ax.scatter(data_2d[ix, 0], data_2d[ix, 1], color='lightgrey', s=1) \n",
    "\n",
    "ax.set_xlabel('UMAP1')\n",
    "ax.set_ylabel('UMAP2')\n",
    "ax.set_title('DBSCAN sub-topic clustering')\n",
    "\n",
    "legend = ax.legend(markerscale=5, loc='center left', bbox_to_anchor=(1, 0.5), title=\"Most common topic\")\n",
    "\n",
    "plt.tight_layout()\n",
    "plt.savefig('dbscan.png', bbox_inches='tight')  \n",
    "\n",
    "plt.show()"
   ]
  },
  {
   "cell_type": "code",
   "execution_count": 21,
   "id": "61b38d63-ee29-4509-9819-f2b74663e2f9",
   "metadata": {},
   "outputs": [
    {
     "data": {
      "text/plain": [
       "array([[-0.0236734 ,  0.38309547, -0.01644007, ..., -0.06769201,\n",
       "        -0.03362734, -1.3692122 ],\n",
       "       [-0.02247076,  0.20453957, -0.01876942, ..., -0.06536399,\n",
       "        -0.03568161, -1.596696  ],\n",
       "       [-0.02268067,  0.269968  , -0.0188555 , ..., -0.06534871,\n",
       "        -0.03636054, -1.5811828 ],\n",
       "       ...,\n",
       "       [-0.02461231,  0.7497529 , -0.01701163, ..., -0.06731163,\n",
       "        -0.03674374, -1.5744047 ],\n",
       "       [-0.01922506,  0.90833807, -0.02374152, ..., -0.06063262,\n",
       "        -0.04440789, -1.4769281 ],\n",
       "       [-0.02340398,  0.3934687 , -0.01668366, ..., -0.06749591,\n",
       "        -0.03388142, -1.3678583 ]], dtype=float32)"
      ]
     },
     "execution_count": 21,
     "metadata": {},
     "output_type": "execute_result"
    }
   ],
   "source": [
    "X_test"
   ]
  },
  {
   "cell_type": "code",
   "execution_count": null,
   "id": "d3cc09d0-5a67-4cb8-8199-e99150bf7b0a",
   "metadata": {},
   "outputs": [],
   "source": []
  },
  {
   "cell_type": "code",
   "execution_count": null,
   "id": "44f0d8a3-b77b-433f-9070-d4676a881fd5",
   "metadata": {},
   "outputs": [],
   "source": []
  },
  {
   "cell_type": "markdown",
   "id": "bc9d2523-773e-4850-b71e-9f562f949ea6",
   "metadata": {},
   "source": [
    "# TRAIN/TEST LOSS CURVES"
   ]
  },
  {
   "cell_type": "code",
   "execution_count": null,
   "id": "c81c096e-dc6b-4da5-babc-f3bd9ea35c63",
   "metadata": {},
   "outputs": [],
   "source": [
    "%load_ext tensorboard"
   ]
  },
  {
   "cell_type": "code",
   "execution_count": null,
   "id": "d0bca27d-2f82-4209-b086-75d37280ff13",
   "metadata": {},
   "outputs": [],
   "source": [
    "%tensorboard --logdir=runs --port=6100"
   ]
  },
  {
   "cell_type": "code",
   "execution_count": null,
   "id": "1338a0fb-b3ff-449d-836c-a13e359a5c2f",
   "metadata": {},
   "outputs": [],
   "source": []
  },
  {
   "cell_type": "code",
   "execution_count": null,
   "id": "5f033c0f-76f4-4889-b238-f4ac6e8983f8",
   "metadata": {},
   "outputs": [],
   "source": []
  }
 ],
 "metadata": {
  "kernelspec": {
   "display_name": "Python 3 (ipykernel)",
   "language": "python",
   "name": "python3"
  },
  "language_info": {
   "codemirror_mode": {
    "name": "ipython",
    "version": 3
   },
   "file_extension": ".py",
   "mimetype": "text/x-python",
   "name": "python",
   "nbconvert_exporter": "python",
   "pygments_lexer": "ipython3",
   "version": "3.12.2"
  }
 },
 "nbformat": 4,
 "nbformat_minor": 5
}
